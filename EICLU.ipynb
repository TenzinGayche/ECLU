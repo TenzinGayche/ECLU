{
  "cells": [
    {
      "cell_type": "markdown",
      "metadata": {
        "id": "03d8703a"
      },
      "source": [
        "\n",
        "# Clustering image into sementic labels"
      ],
      "id": "03d8703a"
    },
    {
      "cell_type": "code",
      "execution_count": null,
      "metadata": {
        "id": "dd0gcnl-_Lsd"
      },
      "outputs": [],
      "source": [
        "from google.colab import drive\n",
        "drive.mount('/content/drive')\n"
      ],
      "id": "dd0gcnl-_Lsd"
    },
    {
      "cell_type": "markdown",
      "source": [
        "## Installing the Latest Tensorflow library \n",
        "---\n",
        "<p>tensorflow version should be 2.11.0 </p>\n",
        "\n",
        "\n"
      ],
      "metadata": {
        "id": "QEUcI6BI0d6Q"
      },
      "id": "QEUcI6BI0d6Q"
    },
    {
      "cell_type": "code",
      "execution_count": null,
      "metadata": {
        "id": "80da1209"
      },
      "outputs": [],
      "source": [
        "# for loading/processing the images  \n",
        "from tensorflow.keras.preprocessing.image import load_img \n",
        "from tensorflow.keras.preprocessing.image import img_to_array \n",
        "from IPython.display import Markdown as md\n",
        "from tensorflow.keras.applications.convnext import preprocess_input\n",
        "from sklearn import metrics\n",
        "import tensorflow as tf\n",
        "# models \n",
        "from sklearn.cluster import Birch\n",
        "from tensorflow.keras.applications.convnext import ConvNeXtXLarge\n",
        "from keras.models import Model\n",
        "from sklearn.cluster import AgglomerativeClustering\n",
        "# clustering and dimension reduction\n",
        "from yellowbrick.cluster.elbow import kelbow_visualizer\n",
        "from sklearn.cluster import KMeans\n",
        "from sklearn.cluster import MiniBatchKMeans as MKMeans\n",
        "from sklearn.decomposition import PCA\n",
        "from sklearn.decomposition import KernelPCA\n",
        "from sklearn.manifold import TSNE\n",
        "# for everything else\n",
        "import os\n",
        "import numpy as np\n",
        "import matplotlib as mtp\n",
        "import matplotlib.pyplot as plt\n",
        "from random import randint\n",
        "import pandas as pd\n",
        "import pickle\n",
        "# images are location\n",
        "path = r\"/content/drive/MyDrive/STL10\"\n",
        "\n",
        "# os.chdir(path)\n",
        "filess=[]\n",
        "\n",
        "# # this list holds all the image filename\n",
        "# # creates a ScandirIterator aliased as files\n",
        "# with os.scandir(path) as files:\n",
        "#   # loops through each file in the directory\n",
        "#     for file in files:\n",
        "#       filess.append(file.name) \n",
        "# #     print(i)        \n",
        "# # filess = [f for f in os.listdir(path) if os.path.isfile(os.path.join(path, f))]  \n",
        "\n",
        "# print(\"Number of files :\",len(filess))  \n",
        "             \n"
      ],
      "id": "80da1209"
    },
    {
      "cell_type": "code",
      "source": [
        "import shutil\n",
        "destination='/content/drive/MyDrive/CombineFolder'\n",
        "i=0\n",
        "for file in filess:\n",
        "  print(i)\n",
        "  shutil.copy2(os.path.join(path, file),destination)\n",
        "  i=i+1\n",
        "\n",
        "\n",
        "\n"
      ],
      "metadata": {
        "id": "GMi3YO25ilXl"
      },
      "id": "GMi3YO25ilXl",
      "execution_count": null,
      "outputs": []
    },
    {
      "cell_type": "code",
      "source": [
        "!python3 -m venv .env"
      ],
      "metadata": {
        "id": "1CjaVAU-al_i"
      },
      "id": "1CjaVAU-al_i",
      "execution_count": null,
      "outputs": []
    },
    {
      "cell_type": "code",
      "execution_count": null,
      "metadata": {
        "id": "a924f8f4"
      },
      "outputs": [],
      "source": [
        "model =ConvNeXtXLarge()\n",
        "#model.summary()"
      ],
      "id": "a924f8f4"
    },
    {
      "cell_type": "code",
      "source": [
        "model =ConvNeXtXLarge(include_top=False)\n",
        "model = Model(inputs = model.inputs, outputs = tf.keras.layers.GlobalAveragePooling2D())\n",
        "model.summary()"
      ],
      "metadata": {
        "id": "sNZzkNZJQT_V"
      },
      "id": "sNZzkNZJQT_V",
      "execution_count": null,
      "outputs": []
    },
    {
      "cell_type": "code",
      "execution_count": null,
      "metadata": {
        "id": "0a45476c"
      },
      "outputs": [],
      "source": [
        "%%time\n",
        "import traceback\n",
        "def extract_features(file, model):\n",
        "\n",
        "    img = load_img(file, target_size=(224,224))\n",
        "\n",
        "    img = img_to_array (img) \n",
        "\n",
        "    reshaped_img = img.reshape(1,224,224,3) \n",
        "\n",
        "    imgx = preprocess_input(reshaped_img)\n",
        "    # get the feature vector\n",
        "    features = model.predict(imgx, use_multiprocessing=True)\n",
        "    return features \n",
        "data = {}\n",
        "p = r\"/content/drive/MyDrive/unsplash-images-collection\"\n",
        "\n",
        " # lop through each image in the dataset\n",
        "for files in filess:\n",
        "    # try to extract the features and update the dictionary\n",
        "    try:\n",
        "        feat = extract_features(files,model)\n",
        "        data[files] = feat\n",
        "    # if something fails, print erro\n",
        "    except Exception:\n",
        "\n",
        "      traceback.print_exc()\n",
        "# f=open('/content/drive/MyDrive/BatchThreeData.sav', 'wb')\n",
        "# pickle.dump(data,f)\n",
        "# f.close()        \n",
        " \n"
      ],
      "id": "0a45476c"
    },
    {
      "cell_type": "code",
      "source": [
        "import plotly.express as px"
      ],
      "metadata": {
        "id": "x8hkoZDRRu51"
      },
      "id": "x8hkoZDRRu51",
      "execution_count": null,
      "outputs": []
    },
    {
      "cell_type": "code",
      "source": [
        "data=pickle.load(open('/content/drive/MyDrive/fcovext.sav', 'rb'))"
      ],
      "metadata": {
        "id": "lenzt5Yqvixb"
      },
      "id": "lenzt5Yqvixb",
      "execution_count": null,
      "outputs": []
    },
    {
      "cell_type": "code",
      "source": [
        "# SavedDataOne=pickle.load(open('/content/drive/MyDrive/BatchOneData.sav', 'rb'))\n",
        "# SavedDataTwo=pickle.load(open('/content/drive/MyDrive/BatchTwoData.sav', 'rb'))\n",
        "# SavedDataThree=pickle.load(open('/content/drive/MyDrive/BatchThreeData.sav', 'rb'))\n",
        "# SavedDataFour=pickle.load(open('/content/drive/MyDrive/BatchFourData.sav', 'rb'))"
      ],
      "metadata": {
        "id": "wy_OfO_Y8PBI"
      },
      "id": "wy_OfO_Y8PBI",
      "execution_count": null,
      "outputs": []
    },
    {
      "cell_type": "code",
      "source": [
        "\n",
        "# len(SavedData)\n"
      ],
      "metadata": {
        "id": "T5v0wMF2PfI3"
      },
      "id": "T5v0wMF2PfI3",
      "execution_count": null,
      "outputs": []
    },
    {
      "cell_type": "code",
      "source": [
        "# len(set(SavedData.keys()))\n",
        "\n",
        "\n",
        "  "
      ],
      "metadata": {
        "id": "QMXoy-jb9Qaq"
      },
      "id": "QMXoy-jb9Qaq",
      "execution_count": null,
      "outputs": []
    },
    {
      "cell_type": "code",
      "source": [
        "global_average_layer = tf.keras.layers.GlobalAveragePooling2D()"
      ],
      "metadata": {
        "id": "PMIo7MXOfbdi"
      },
      "id": "PMIo7MXOfbdi",
      "execution_count": null,
      "outputs": []
    },
    {
      "cell_type": "code",
      "execution_count": null,
      "metadata": {
        "id": "3816d3a3"
      },
      "outputs": [],
      "source": [
        "#get a list of the filenames\n",
        "filenames = np.array(list(data.keys()))\n",
        "# get a list of just the features\n",
        "feat = np.array(list(data.values()))\n",
        "print(feat.shape)\n",
        "# reshape so that there are 210 samples of 1280 4096 4032 1536 1920 vectors\n",
        "feat = feat.reshape(-1,2048)\n",
        "# reduce the amount of dimensions in the feature vector\n",
        "pca =TSNE(n_components=3, random_state=54)\n",
        "pca.fit(feat)\n",
        "x = pca.fit_transform(feat)"
      ],
      "id": "3816d3a3"
    },
    {
      "cell_type": "code",
      "source": [
        "reducedDimensionDF=pd.read_csv('/content/drive/MyDrive/3dplotfeatmeusum.csv')"
      ],
      "metadata": {
        "id": "vfyWJIkYef8C"
      },
      "id": "vfyWJIkYef8C",
      "execution_count": null,
      "outputs": []
    },
    {
      "cell_type": "code",
      "source": [
        "reducedDimensionDF=pd.DataFrame(x)"
      ],
      "metadata": {
        "id": "B_Ii7r3NPYnk"
      },
      "id": "B_Ii7r3NPYnk",
      "execution_count": null,
      "outputs": []
    },
    {
      "cell_type": "code",
      "source": [
        "df=pd.DataFrame(np.array([]))"
      ],
      "metadata": {
        "id": "ht7nFRLYY1u7"
      },
      "id": "ht7nFRLYY1u7",
      "execution_count": null,
      "outputs": []
    },
    {
      "cell_type": "code",
      "source": [
        "reducedDimensionDF['0']"
      ],
      "metadata": {
        "id": "wM1WyEDrAKZ5"
      },
      "id": "wM1WyEDrAKZ5",
      "execution_count": null,
      "outputs": []
    },
    {
      "cell_type": "code",
      "source": [
        "df['0']=reducedDimensionDF[0]\n",
        "df['1']=reducedDimensionDF[1]\n",
        "df['2']=reducedDimensionDF[2]\n",
        "df['c']=reducedDimensionDF['c']\n"
      ],
      "metadata": {
        "id": "9DG3g65nWyxd"
      },
      "id": "9DG3g65nWyxd",
      "execution_count": null,
      "outputs": []
    },
    {
      "cell_type": "code",
      "source": [
        "!pip install ipympl"
      ],
      "metadata": {
        "id": "WJk4lJuRwvpR"
      },
      "id": "WJk4lJuRwvpR",
      "execution_count": null,
      "outputs": []
    },
    {
      "cell_type": "code",
      "source": [
        "%matplotlib widget\n",
        "plt.figure(figsize=(10, 10))\n",
        "ax = plt.axes(projection='3d')\n",
        "colors=[\"#e60049\", \"#0bb4ff\", \"#53e991\", \"#e6d800\", \"#9b19f5\", \"#ffa300\", \"#dc0ab4\", \"#b3d4ff\", \"#00bfa0\", \"#991f17\"]\n",
        "ax.scatter3D(reducedDimensionDF[0], reducedDimensionDF[1], reducedDimensionDF[2], c=kmeans.labels_, cmap=mtp.colors.ListedColormap(colors),s=30);\n",
        "plt.xlabel(\"X\")\n",
        "plt.ylabel('Y');\n",
        "\n"
      ],
      "metadata": {
        "id": "Z7B3vHoBVqQ9"
      },
      "id": "Z7B3vHoBVqQ9",
      "execution_count": null,
      "outputs": []
    },
    {
      "cell_type": "code",
      "source": [
        "from google.colab import output\n",
        "output.enable_custom_widget_manager()"
      ],
      "metadata": {
        "id": "bw38BbCaWC5m"
      },
      "id": "bw38BbCaWC5m",
      "execution_count": null,
      "outputs": []
    },
    {
      "cell_type": "code",
      "source": [
        "plt.figure(figsize=(10, 10))\n",
        "plt.xticks(ticks=(-1,15))\n",
        "ax = plt.axes(projection='3d')\n",
        "colors=[\"#e60049\", \"#0bb4ff\", \"#53e991\", \"#e6d800\", \"#9b19f5\", \"#ffa300\", \"#dc0ab4\", \"#b3d4ff\", \"#00bfa0\", \"#991f17\"]\n",
        "\n",
        "reducedDimensionDF=pd.DataFrame(x)\n",
        "ax.scatter3D(reducedDimensionDF[0], reducedDimensionDF[1], reducedDimensionDF[2], c=kmeans.labels_, cmap=mtp.colors.ListedColormap(colors));"
      ],
      "metadata": {
        "id": "kyxrJ59cKXLZ"
      },
      "id": "kyxrJ59cKXLZ",
      "execution_count": null,
      "outputs": []
    },
    {
      "cell_type": "code",
      "source": [
        "reducedDimensionDF=reducedDimensionDF.drop(reducedDimensionDF[1].idxmax())"
      ],
      "metadata": {
        "id": "6T7j2FdOMFuE"
      },
      "id": "6T7j2FdOMFuE",
      "execution_count": null,
      "outputs": []
    },
    {
      "cell_type": "code",
      "source": [
        "reducedDimensionDF[1].idxmax()"
      ],
      "metadata": {
        "id": "pFTK7PPnZCbu"
      },
      "id": "pFTK7PPnZCbu",
      "execution_count": null,
      "outputs": []
    },
    {
      "cell_type": "code",
      "source": [
        "reducedDimensionDF['c']=kmeans.labels_"
      ],
      "metadata": {
        "id": "WWVuBi0WX-ze"
      },
      "id": "WWVuBi0WX-ze",
      "execution_count": null,
      "outputs": []
    },
    {
      "cell_type": "code",
      "source": [
        "str(kmeans.labels_)"
      ],
      "metadata": {
        "id": "Cps4WDmFfG94"
      },
      "id": "Cps4WDmFfG94",
      "execution_count": null,
      "outputs": []
    },
    {
      "cell_type": "code",
      "source": [
        "\n",
        "# Plot sse against k\n",
        "plt.figure(figsize=(6, 6))\n",
        "plt.plot(list_k, sse)\n",
        "plt.xlabel(r'Number of clusters *k*')\n",
        "plt.ylabel('silhouette score');\n",
        "        "
      ],
      "metadata": {
        "id": "_z7YDROm3_yF"
      },
      "id": "_z7YDROm3_yF",
      "execution_count": null,
      "outputs": []
    },
    {
      "cell_type": "code",
      "source": [
        "\n",
        "km=kelbow_visualizer(Birch(), x, k=(1,20))\n",
        "k=km.elbow_value_ \n",
        "metrics.silhouette_score(x, km.labels_, metric='euclidean')"
      ],
      "metadata": {
        "id": "MY0bynskATVH"
      },
      "id": "MY0bynskATVH",
      "execution_count": null,
      "outputs": []
    },
    {
      "cell_type": "code",
      "source": [
        "print(k)"
      ],
      "metadata": {
        "id": "c61iBqZY0M59"
      },
      "id": "c61iBqZY0M59",
      "execution_count": null,
      "outputs": []
    },
    {
      "cell_type": "code",
      "source": [
        "featureDF=pd.DataFrame(x)\n"
      ],
      "metadata": {
        "id": "66bOWSScFT5C"
      },
      "id": "66bOWSScFT5C",
      "execution_count": null,
      "outputs": []
    },
    {
      "cell_type": "code",
      "source": [
        "# featureDF[\"cluster_id\"]=kmeans.labels_"
      ],
      "metadata": {
        "id": "m1nOK-wc_GRo"
      },
      "id": "m1nOK-wc_GRo",
      "execution_count": null,
      "outputs": []
    },
    {
      "cell_type": "code",
      "source": [
        "featureDF.to_csv('/content/drive/MyDrive/MuseumImagesFeature.csv', sep='\\t', index=True,header=True)"
      ],
      "metadata": {
        "id": "h7m06F7J994T"
      },
      "id": "h7m06F7J994T",
      "execution_count": null,
      "outputs": []
    },
    {
      "cell_type": "markdown",
      "metadata": {
        "id": "beab5fe3"
      },
      "source": [
        "# K mean clustering\n"
      ],
      "id": "beab5fe3"
    },
    {
      "cell_type": "code",
      "source": [
        "len(groups)"
      ],
      "metadata": {
        "id": "qGm5-p3Z4le8"
      },
      "id": "qGm5-p3Z4le8",
      "execution_count": null,
      "outputs": []
    },
    {
      "cell_type": "code",
      "execution_count": null,
      "metadata": {
        "id": "139e69f5",
        "scrolled": true
      },
      "outputs": [],
      "source": [
        "#cluster feature vectors\n",
        "\n",
        "kmeans=Birch(n_clusters=10).fit(x)\n",
        "\n",
        "# # kmeans=DBSCAN(eps=3.8, min_samples=2).fit(x)\n",
        "# # holds the cluster id and the images { id: [images] }\n",
        "# groups = {}\n",
        "# for file, cluster in zip(filenames,kmeans.labels_):\n",
        "#     if cluster not in groups.keys():\n",
        "#         groups[cluster] = []\n",
        "#         groups[cluster].append(file)\n",
        "#     else:\n",
        "#         groups[cluster].append(file)\n",
        "# # function that lets you view a cluster (based on identifier)   \n"
      ],
      "id": "139e69f5"
    },
    {
      "cell_type": "code",
      "source": [
        "df.head()"
      ],
      "metadata": {
        "id": "8FrtcVAFdLhG"
      },
      "id": "8FrtcVAFdLhG",
      "execution_count": null,
      "outputs": []
    },
    {
      "cell_type": "code",
      "source": [
        "import plotly.express as px\n",
        "\n",
        "fig = px.scatter_3d(df[:1000], x='0', y='1', z='2',color='c',)\n",
        "fig.show()"
      ],
      "metadata": {
        "id": "y_v7j3V5X2cJ"
      },
      "id": "y_v7j3V5X2cJ",
      "execution_count": null,
      "outputs": []
    },
    {
      "cell_type": "markdown",
      "metadata": {
        "id": "c158f737"
      },
      "source": [
        "## View cluster"
      ],
      "id": "c158f737"
    },
    {
      "cell_type": "code",
      "execution_count": null,
      "metadata": {
        "id": "722db1fe"
      },
      "outputs": [],
      "source": [
        "def view_cluster(cluster,no):\n",
        "    plt.figure(figsize = (20,20));\n",
        "    \n",
        "    # gets the list of filenames for a cluster\n",
        "    files = groups[cluster]\n",
        "    # only allow up to 30 images to be shown at a tim\n",
        "\n",
        "    files = files[:no]\n",
        "      \n",
        "    # plot each image in the cluster\n",
        "    for index, file in enumerate(files):\n",
        "      plt.subplot(10,10,index+1);\n",
        "      img = load_img(\"/content/drive/MyDrive/CombineFolder/\"+str(file))\n",
        "      img = np.array(img)\n",
        "      plt.imshow(img)\n",
        "      plt.axis('off')\n",
        "      \n"
      ],
      "id": "722db1fe"
    },
    {
      "cell_type": "code",
      "source": [
        "print(filenames[2942])\n",
        "img = load_img(\"/content/drive/MyDrive/imageBackup/var/www/museum/upload_museum/thumb_aa988447067c0355df0223065af9d055.jpg\")\n",
        "img = np.array(img)\n",
        "plt.imshow(img)\n",
        "plt.show()"
      ],
      "metadata": {
        "id": "IVnB-Ebqbp0O"
      },
      "id": "IVnB-Ebqbp0O",
      "execution_count": null,
      "outputs": []
    },
    {
      "cell_type": "code",
      "source": [
        "from sklearn.neighbors import KNeighborsRegressor\n",
        "featuresExtracted = x\n",
        "\n",
        "neigh = KNeighborsRegressor(n_neighbors=20).fit(featuresExtracted,kmeans.labels_)\n",
        "arrayOfNeigh = neigh.kneighbors([x[0]], return_distance=False)\n",
        "\n",
        "print(\"20 nearest neighbours are :\" ,arrayOfNeigh)\n",
        "\n",
        "\n",
        "\n",
        "\n"
      ],
      "metadata": {
        "id": "wZTF2cPTmePu"
      },
      "id": "wZTF2cPTmePu",
      "execution_count": null,
      "outputs": []
    },
    {
      "cell_type": "code",
      "execution_count": null,
      "metadata": {
        "id": "e1d45e47"
      },
      "outputs": [],
      "source": [
        "def replacelabel(a,arr):\n",
        "  for i in range(len(a)):\n",
        "      if(a[i]==0):\n",
        "        a[i]=arr[0]\n",
        "      elif(a[i]==1):\n",
        "        a[i]=arr[1]\n",
        "      elif(a[i]==2):\n",
        "        a[i]=arr[2]\n",
        "      elif(a[i]==3):\n",
        "        a[i]=arr[3]\n",
        "      elif(a[i]==4):\n",
        "        a[i]=arr[4] \n",
        "      elif(a[i]==5):\n",
        "        a[i]=arr[5]\n",
        "      elif(a[i]==6):\n",
        "        a[i]=arr[6]\n",
        "      elif(a[i]==7):\n",
        "        a[i]=arr[7]\n",
        "      elif(a[i]==8):\n",
        "        a[i]=arr[8]\n",
        "      elif(a[i]==9):\n",
        "        a[i]=arr[9]                 \n",
        "  return a "
      ],
      "id": "e1d45e47"
    },
    {
      "cell_type": "code",
      "execution_count": null,
      "metadata": {
        "id": "f9f76c43"
      },
      "outputs": [],
      "source": [
        "for i in range(44):\n",
        "  view_cluster(i,10)"
      ],
      "id": "f9f76c43"
    },
    {
      "cell_type": "code",
      "source": [
        "view_cluster(8,50)"
      ],
      "metadata": {
        "id": "a6tlT4_r64qM"
      },
      "id": "a6tlT4_r64qM",
      "execution_count": null,
      "outputs": []
    },
    {
      "cell_type": "code",
      "source": [
        "# airplane 0\n",
        "# bird 1 \n",
        "# car 2\n",
        "# cat 3\n",
        "# deer 4\n",
        "# dog 5\n",
        "# horse 6\n",
        "# monkey 7\n",
        "# ship 8\n",
        "# truck 9\n",
        "u=['0','1','2','3','4','5','6','7','8','9','10','11','12','13,']\n",
        "c=replacelabel(kmeans.labels_,u)\n",
        "\n",
        "print(c)"
      ],
      "metadata": {
        "id": "ugvK9bHk0j_K"
      },
      "id": "ugvK9bHk0j_K",
      "execution_count": null,
      "outputs": []
    },
    {
      "cell_type": "code",
      "execution_count": null,
      "metadata": {
        "id": "d474b0b7"
      },
      "outputs": [],
      "source": [
        "labels=pd.read_csv('/content/drive/MyDrive/Label-main.csv')\n",
        "print(labels['label'])\n",
        "fname=np.array(labels['filename'])\n",
        "labels=np.array(labels['label'])\n",
        "arr=[]\n",
        "for i in range(len(labels)):\n",
        "  for j in range(len(labels)):\n",
        "\n",
        "    if(str(filenames[i])==str(fname[j])):\n",
        "      arr.append(labels[j])\n",
        "arr=np.array(arr)"
      ],
      "id": "d474b0b7"
    },
    {
      "cell_type": "code",
      "source": [
        "arr=np.array(arr)-1"
      ],
      "metadata": {
        "id": "h4TWS5tSKkkn"
      },
      "id": "h4TWS5tSKkkn",
      "execution_count": null,
      "outputs": []
    },
    {
      "cell_type": "code",
      "source": [
        "accy=metrics.accuracy_score(arr,c)"
      ],
      "metadata": {
        "id": "fI0cVzNqHIec"
      },
      "id": "fI0cVzNqHIec",
      "execution_count": null,
      "outputs": []
    },
    {
      "cell_type": "code",
      "source": [
        "md(f'# Accuracy of the model : {accy*100}')"
      ],
      "metadata": {
        "id": "loJNuD5JXh3n"
      },
      "id": "loJNuD5JXh3n",
      "execution_count": null,
      "outputs": []
    },
    {
      "cell_type": "markdown",
      "source": [
        "# 2d Graph "
      ],
      "metadata": {
        "id": "94oGjepzAvxP"
      },
      "id": "94oGjepzAvxP"
    },
    {
      "cell_type": "code",
      "source": [
        "# from sklearn.manifold import TSNE\n",
        "# pca = TSNE(n_components=2, random_state=22)\n",
        "# pca.fit(feat)\n",
        "# x = pca.fit_transform(feat)\n",
        "kmeans =Birch(n_clusters=15)\n",
        "kmeans.fit(x)\n"
      ],
      "metadata": {
        "id": "n94seclwGQM5"
      },
      "id": "n94seclwGQM5",
      "execution_count": null,
      "outputs": []
    },
    {
      "cell_type": "code",
      "source": [
        "y= pd.DataFrame(x)"
      ],
      "metadata": {
        "id": "PYTJf6wqGeU9"
      },
      "id": "PYTJf6wqGeU9",
      "execution_count": null,
      "outputs": []
    },
    {
      "cell_type": "code",
      "source": [
        "plt.figure(figsize=(8, 8))\n",
        "colors = ['#1f77b4', '#aec7e8', '#ff7f0e', '#ffbb78', '#2ca02c',          '#98df8a', '#d62728', '#ff9896', '#9467bd', '#c5b0d5',          '#8c564b', '#c49c94', '#e377c2', '#f7b6d2', '#7f7f7f',          '#c7c7c7', '#bcbd22', '#dbdb8d', '#17becf', '#9edae5',          '#393b79', '#5254a3', '#6b6ecf', '#9c9ede', '#637939']\n",
        "plt.scatter(y[0],y[1],c=kmeans.labels_,linewidths=0.2,cmap=mtp.colors.ListedColormap(colors),s=8)  \n",
        "plt.xticks(())\n",
        "plt.yticks(())\n",
        "plt.show()"
      ],
      "metadata": {
        "id": "iJp7ZaJsnHtn"
      },
      "id": "iJp7ZaJsnHtn",
      "execution_count": null,
      "outputs": []
    },
    {
      "cell_type": "code",
      "source": [
        "a=np.array(arr).reshape(-1,2000)"
      ],
      "metadata": {
        "id": "eoOth8magzLU"
      },
      "id": "eoOth8magzLU",
      "execution_count": null,
      "outputs": []
    },
    {
      "cell_type": "code",
      "source": [
        "a.shape"
      ],
      "metadata": {
        "id": "feJ8C879hdEm"
      },
      "id": "feJ8C879hdEm",
      "execution_count": null,
      "outputs": []
    }
  ],
  "metadata": {
    "colab": {
      "provenance": [],
      "private_outputs": true
    },
    "kernelspec": {
      "display_name": "Python 3",
      "language": "python",
      "name": "python3"
    },
    "language_info": {
      "codemirror_mode": {
        "name": "ipython",
        "version": 3
      },
      "file_extension": ".py",
      "mimetype": "text/x-python",
      "name": "python",
      "nbconvert_exporter": "python",
      "pygments_lexer": "ipython3",
      "version": "3.8.8"
    },
    "accelerator": "GPU",
    "gpuClass": "standard"
  },
  "nbformat": 4,
  "nbformat_minor": 5
}